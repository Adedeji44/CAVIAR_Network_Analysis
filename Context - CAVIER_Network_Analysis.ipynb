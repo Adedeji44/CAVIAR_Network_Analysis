{
 "cells": [
  {
   "cell_type": "markdown",
   "id": "09827db6",
   "metadata": {},
   "source": [
    "## Context\n",
    "\n",
    "Here is some information on the CAVIAR project and the role of certain individuals arrested following the investigation. The investigation lasted two years and ran from 1994 to 1996. The operation was brought together by investigation units of the Montreal police and the Royal Canadian Mounted Police of Canada. During these two years, 11 wiretap warrants, valid for about two months each, were obtained (11 matrices match these phases).\n",
    "\n",
    "This case is rather unique because, unlike other investigative strategies, the mandate of the CAVIAR project was to seize the drugs without arresting criminals. During this period, imports of the trafficking network were hit and seized by the police on eleven occasions. The arrests took place only at the end of the investigation. Monetary losses for traffickers were estimated at 32 million dollars. Some phases included no seizures, and others included multiple. Here is what they represent in terms of the amount of money:\n",
    "\n",
    "- Phase 4 - 1 seizure, 2,500,000 Dollars, 300 kg of marijuana\n",
    "- Phase 6 - 3 seizures, 1,300,000 Dollars, 2 x 15 kg of marijuana + 1 x 2 kg of cocaine\n",
    "- Phase 7 - 1 seizure, 3,500,000 Dollars, 401 kg of marijuana\n",
    "- Phase 8 - 1 seizure, 360,000 Dollars, 9 kg of cocaine\n",
    "- Phase 9 - 2 seizures, 4,300,000 Dollars, 2 kg of cocaine + 1 x 500 kg marijuana\n",
    "- Phase 10 - 1 seizure, 18,700,000 Dollars, 2200 kg of marijuana\n",
    "- Phase 11 - 2 seizures, 1,300,000 Dollars, 12 kg of cocaine + 11 kg of cocaine\n",
    "\n",
    "This exercise offers an opportunity to study a criminal network in response to upheaval by police forces. This allows us to analyze changes in the network structure and to survey the reaction and adaptation of the participants while they were subjected to an increasing number of distressing constraints.\n",
    "\n",
    "## About the network\n",
    "\n",
    "The network consists of 110 (numbered) players. Players 1-82 are the traffickers. Players 83-110 are the non-traffickers (financial investors, accountants, owners of various importation businesses, etc.). Initially, the investigation targeted Daniel Serero, the alleged mastermind of a drug network in downtown Montreal, attempting to import marijuana to Canada from Morocco, transiting through Spain. After the first seizure, happening in phase 4, traffickers reoriented to cocaine import from Colombia, transiting through the United States.\n",
    "\n",
    "According to the police, the role of the players of the \"Serero organization\" under investigation were the following:\n",
    "\n",
    "- Daniel Serero (N1) - Mastermind of the network\n",
    "- Pierre Perlini (N3) - Principal lieutenant of Serero, executes instructions\n",
    "- Alain (N83) and G'erard (N86) Levy - Investors and transporters of money\n",
    "- Wallace Lee (N85) - Takes care of financial affairs (accountant)\n",
    "- Gaspard Lino (N6) - Broker in Spain\n",
    "- Samir Rabbat (N11) - Provider in Morocco\n",
    "- Lee Gilbert (N88) - Trusted man of Wallace Lee (became an informer after the arrest)\n",
    "- Beverly Ashton (N106) - Spouse of Lino, transports money and documents\n",
    "- Antonio Iannacci (N89) - Investor\n",
    "- Mohammed Echouafni (N84) - Moroccan investor\n",
    "- Richard Gleeson (N5), Bruno de Quinzio (N8), and Gabrielle Casale (N76) - Charged with recuperating the marijuana\n",
    "- Roderik Janouska (N77) - Individual with airport contacts\n",
    "- Patrick Lee (N87) - Investor\n",
    "- Salvatore Panetta (N82) - Transport arrangements manager\n",
    "- Steve Cunha (N96) - Transport manager, owner of a legitimate import company (became an informer after the arrest)\n",
    "- Ernesto Morales (N12) - Principal organizer of the cocaine import, an intermediary between the Colombians and the Serero organization\n",
    "- Oscar Nieri (N17) - The handyman of Morales\n",
    "- Richard Brebner (N80) - Transporting the cocaine from the US to Montreal\n",
    "- Ricardo Negrinotti (N33) - Taking possession of the cocaine in the US to hand it to Brebner\n",
    "- Johnny Pacheco (N16) - Cocaine provider"
   ]
  },
  {
   "cell_type": "code",
   "execution_count": null,
   "id": "a6aac075",
   "metadata": {},
   "outputs": [],
   "source": []
  }
 ],
 "metadata": {
  "kernelspec": {
   "display_name": "Python 3 (ipykernel)",
   "language": "python",
   "name": "python3"
  },
  "language_info": {
   "codemirror_mode": {
    "name": "ipython",
    "version": 3
   },
   "file_extension": ".py",
   "mimetype": "text/x-python",
   "name": "python",
   "nbconvert_exporter": "python",
   "pygments_lexer": "ipython3",
   "version": "3.9.12"
  }
 },
 "nbformat": 4,
 "nbformat_minor": 5
}
